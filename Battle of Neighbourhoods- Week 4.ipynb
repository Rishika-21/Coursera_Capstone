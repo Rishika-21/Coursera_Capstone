{
    "nbformat_minor": 1, 
    "cells": [
        {
            "source": "# Battle of The Neighbourhoods", 
            "cell_type": "markdown", 
            "metadata": {
                "collapsed": true
            }
        }, 
        {
            "source": "## _Coursera IBM Capstone- Final Project_", 
            "cell_type": "markdown", 
            "metadata": {}
        }, 
        {
            "source": "## Business Problem", 
            "cell_type": "markdown", 
            "metadata": {}
        }, 
        {
            "source": "**The customer wants to open a new restaurant in one of the busiest cities in India, Mumbai. Mumbai is a densely populated city with street vendors as well as fancy restaurants in plenty. There are multiple factors which determine the success of a place like the quality of food, environment, crowd etc etc, but one major factor is location. \nNow since there is already existing competition, how do we find the best area to open a restuarant?**", 
            "cell_type": "markdown", 
            "metadata": {}
        }, 
        {
            "source": "## Data and its Collection", 
            "cell_type": "markdown", 
            "metadata": {}
        }, 
        {
            "source": "**To begin with we will be using the dataset based on Zomato analysis provided to us by Kaggle. This will list out the restaurants in the different areas.\nWe will also be using the FOURSQUARE API which would help us to get the coordinates of a neighbourhood and also of its surroundings.**", 
            "cell_type": "markdown", 
            "metadata": {}
        }, 
        {
            "source": "**Foursquare API- Foursquare City Guide, commonly known as Foursquare, is a local search-and-discovery mobile app which provides search results for its users.The app provides personalized recommendations of places to go near a user's current location based on users' previous browsing history and check-in history**.", 
            "cell_type": "markdown", 
            "metadata": {}
        }, 
        {
            "source": "**Kaggle- Kaggle is an online community of data scientists and machine learners, owned by Google LLC. Kaggle allows users to find and publish data sets, explore and build models in a web-based data-science environment.**", 
            "cell_type": "markdown", 
            "metadata": {}
        }, 
        {
            "source": "**We will also make use of-**\n 1. https://geocoder.readthedocs.io \n 2. http://geojson.io \n", 
            "cell_type": "markdown", 
            "metadata": {}
        }, 
        {
            "execution_count": null, 
            "cell_type": "code", 
            "metadata": {}, 
            "outputs": [], 
            "source": ""
        }
    ], 
    "metadata": {
        "kernelspec": {
            "display_name": "Python 3.5", 
            "name": "python3", 
            "language": "python"
        }, 
        "language_info": {
            "mimetype": "text/x-python", 
            "nbconvert_exporter": "python", 
            "version": "3.5.5", 
            "name": "python", 
            "file_extension": ".py", 
            "pygments_lexer": "ipython3", 
            "codemirror_mode": {
                "version": 3, 
                "name": "ipython"
            }
        }
    }, 
    "nbformat": 4
}