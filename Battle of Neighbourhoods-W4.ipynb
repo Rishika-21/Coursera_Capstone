{
 "cells": [
  {
   "cell_type": "markdown",
   "metadata": {},
   "source": [
    "# Battle of The Neighbourhoods "
   ]
  },
  {
   "cell_type": "markdown",
   "metadata": {},
   "source": [
    "### Coursera IBM Capstone- Final Project"
   ]
  },
  {
   "cell_type": "markdown",
   "metadata": {},
   "source": [
    "### Business Problem-"
   ]
  },
  {
   "cell_type": "markdown",
   "metadata": {},
   "source": [
    "Cafes and restaurants are always well in demand. People go out with their family and friends to relax, enjoy and chat over food. Now the demand for a fantastic restaurant is huge, a place where the food is delicious and it goes with the price.\n",
    "<br>The customer wants to open a new restaurant in one of the busiest cities in India, Mumbai. Mumbai is a densely populated city with street vendors as well as fancy restaurants in plenty. There are multiple factors which determine the success of a place. The quality of the food, environment, crowd and the paying capicity of the people, and one major factor is location. <br>  Now since there is already existing competition, how do we find the best area to open a restuarant which would attract maximum consumers?"
   ]
  },
  {
   "cell_type": "markdown",
   "metadata": {},
   "source": [
    "### Data and its Collection"
   ]
  },
  {
   "cell_type": "markdown",
   "metadata": {},
   "source": [
    "To begin with we will be using the dataset based on Zomato analysis provided to us by Kaggle. This will list out the restaurants in the different areas. We will also be using the FOURSQUARE API which would help us to get the coordinates of a neighbourhood and also of its surroundings.<br>  We will be analysing multiple factors like the type of food the restaurant specializes in, the average cost for 2 people, the restaurant location, overall rating, competitors in that location and the score given to the place on 100 to give a complete outlook on the situation and recommend which would be the best place to start business."
   ]
  },
  {
   "cell_type": "markdown",
   "metadata": {},
   "source": [
    "Foursquare API- Foursquare City Guide, commonly known as Foursquare, is a local search-and-discovery mobile app which provides search results for its users.The app provides personalized recommendations of places to go near a user's current location based on users' previous browsing history and check-in history.\n",
    "\n",
    "Kaggle- Kaggle is an online community of data scientists and machine learners, owned by Google LLC. Kaggle allows users to find and publish data sets, explore and build models in a web-based data-science environment.\n",
    "\n",
    "We will also make use of 2 important sites-\n",
    "\n",
    "1. https://geocoder.readthedocs.io\n",
    "2. http://geojson.io"
   ]
  },
  {
   "cell_type": "code",
   "execution_count": null,
   "metadata": {},
   "outputs": [],
   "source": []
  }
 ],
 "metadata": {
  "kernelspec": {
   "display_name": "Python 3",
   "language": "python",
   "name": "python3"
  },
  "language_info": {
   "codemirror_mode": {
    "name": "ipython",
    "version": 3
   },
   "file_extension": ".py",
   "mimetype": "text/x-python",
   "name": "python",
   "nbconvert_exporter": "python",
   "pygments_lexer": "ipython3",
   "version": "3.6.8"
  }
 },
 "nbformat": 4,
 "nbformat_minor": 2
}
